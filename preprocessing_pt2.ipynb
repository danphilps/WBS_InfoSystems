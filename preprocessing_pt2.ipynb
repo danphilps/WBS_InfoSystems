{
 "cells": [
  {
   "cell_type": "markdown",
   "id": "collaborative-bachelor",
   "metadata": {},
   "source": [
    "# Preprocessing 2: Dimensionality reduction on Finance Data\n",
    "\n",
    "Many learners benefit from a lower dimensionality input dataset. We can add a dimensionality reduction step into our pipeline to achieve this and we will examine PCA (linear dimensionality reduction) and autoencoders (non-linear dimensionality reduction) to see this. However, real finance data has the problem of a large number of catagorical features, such as country or sector. We will see how dimensionality reduction works in the context of a real finance dataset...\n",
    "\n",
    "In this section we will cover ...\n",
    "\n",
    "1) Categorical data in finance\n",
    "\n",
    "2) One hot encodings... 60 Countries in one column? SPlit into 60 columns with ${{1,0}}$ dummy variables. \n",
    "\n",
    "3) PCA: We see how to reduce the dimensionality of one hot encoded features\n",
    "\n",
    "4) Auto-encoders\n",
    "\n",
    "5) Autoencoder, PCA, full data-set Shoot out...\n",
    "\n"
   ]
  },
  {
   "cell_type": "code",
   "execution_count": 12,
   "id": "ruled-template",
   "metadata": {},
   "outputs": [],
   "source": [
    "import pandas as pd \n",
    "import numpy as np\n",
    "import seaborn as sns\n",
    "import matplotlib.pyplot as plt"
   ]
  },
  {
   "cell_type": "markdown",
   "id": "outer-counter",
   "metadata": {},
   "source": [
    "## 1. Catagorical Data in Finance\n",
    "\n",
    "\n",
    "### Exploring the sector and country columns\n",
    "Let us look at how many unique sectors and countries are in the data."
   ]
  },
  {
   "cell_type": "code",
   "execution_count": 13,
   "id": "located-effort",
   "metadata": {},
   "outputs": [
    {
     "data": {
      "text/html": [
       "<div>\n",
       "<style scoped>\n",
       "    .dataframe tbody tr th:only-of-type {\n",
       "        vertical-align: middle;\n",
       "    }\n",
       "\n",
       "    .dataframe tbody tr th {\n",
       "        vertical-align: top;\n",
       "    }\n",
       "\n",
       "    .dataframe thead th {\n",
       "        text-align: right;\n",
       "    }\n",
       "</style>\n",
       "<table border=\"1\" class=\"dataframe\">\n",
       "  <thead>\n",
       "    <tr style=\"text-align: right;\">\n",
       "      <th></th>\n",
       "      <th>NAME</th>\n",
       "      <th>TICKER</th>\n",
       "      <th>SECTOR</th>\n",
       "      <th>COUNTRY</th>\n",
       "      <th>YEAR</th>\n",
       "      <th>AVERAGE RETURN</th>\n",
       "      <th>Beta_DnSide_24m 12 months prior</th>\n",
       "      <th>Beta_DnSide_24m 24 months prior</th>\n",
       "      <th>Beta_DnSide_24m 36 months prior</th>\n",
       "      <th>Diag DebtToEquity 12 months prior</th>\n",
       "      <th>...</th>\n",
       "      <th>EPS 36 months prior</th>\n",
       "      <th>GroupRank_Diag FreeCashFlowpers 12 months prior</th>\n",
       "      <th>GroupRank_Diag FreeCashFlowpers 24 months prior</th>\n",
       "      <th>GroupRank_Diag FreeCashFlowpers 36 months prior</th>\n",
       "      <th>GroupRank_NPL_Loans_egSector 12 months prior</th>\n",
       "      <th>GroupRank_NPL_Loans_egSector 24 months prior</th>\n",
       "      <th>GroupRank_NPL_Loans_egSector 36 months prior</th>\n",
       "      <th>Mkt_Beta_2yrs 12 months prior</th>\n",
       "      <th>Mkt_Beta_2yrs 24 months prior</th>\n",
       "      <th>Mkt_Beta_2yrs 36 months prior</th>\n",
       "    </tr>\n",
       "  </thead>\n",
       "  <tbody>\n",
       "    <tr>\n",
       "      <th>0</th>\n",
       "      <td>Company No8</td>\n",
       "      <td>8</td>\n",
       "      <td>Materials</td>\n",
       "      <td>United Kingdom</td>\n",
       "      <td>2019</td>\n",
       "      <td>0.250570</td>\n",
       "      <td>0.466629</td>\n",
       "      <td>0.613881</td>\n",
       "      <td>0.605679</td>\n",
       "      <td>0.000323</td>\n",
       "      <td>...</td>\n",
       "      <td>0.563397</td>\n",
       "      <td>0.716</td>\n",
       "      <td>0.473</td>\n",
       "      <td>0.115</td>\n",
       "      <td>0.0</td>\n",
       "      <td>0.0</td>\n",
       "      <td>0.0</td>\n",
       "      <td>0.733146</td>\n",
       "      <td>0.179791</td>\n",
       "      <td>0.266553</td>\n",
       "    </tr>\n",
       "    <tr>\n",
       "      <th>1</th>\n",
       "      <td>Company No11</td>\n",
       "      <td>11</td>\n",
       "      <td>Industrials</td>\n",
       "      <td>United Kingdom</td>\n",
       "      <td>2019</td>\n",
       "      <td>0.516823</td>\n",
       "      <td>0.520017</td>\n",
       "      <td>0.599024</td>\n",
       "      <td>0.582105</td>\n",
       "      <td>0.000942</td>\n",
       "      <td>...</td>\n",
       "      <td>0.563424</td>\n",
       "      <td>0.603</td>\n",
       "      <td>0.521</td>\n",
       "      <td>0.105</td>\n",
       "      <td>0.0</td>\n",
       "      <td>0.0</td>\n",
       "      <td>0.0</td>\n",
       "      <td>0.749883</td>\n",
       "      <td>0.180655</td>\n",
       "      <td>0.265154</td>\n",
       "    </tr>\n",
       "    <tr>\n",
       "      <th>2</th>\n",
       "      <td>Barratt Developments PLC</td>\n",
       "      <td>16</td>\n",
       "      <td>Consumer Discretionary</td>\n",
       "      <td>United Kingdom</td>\n",
       "      <td>2019</td>\n",
       "      <td>0.811012</td>\n",
       "      <td>0.449442</td>\n",
       "      <td>0.504130</td>\n",
       "      <td>0.479913</td>\n",
       "      <td>0.000225</td>\n",
       "      <td>...</td>\n",
       "      <td>0.563414</td>\n",
       "      <td>0.413</td>\n",
       "      <td>0.386</td>\n",
       "      <td>0.547</td>\n",
       "      <td>0.0</td>\n",
       "      <td>0.0</td>\n",
       "      <td>0.0</td>\n",
       "      <td>0.728778</td>\n",
       "      <td>0.180987</td>\n",
       "      <td>0.258411</td>\n",
       "    </tr>\n",
       "    <tr>\n",
       "      <th>3</th>\n",
       "      <td>Company No17</td>\n",
       "      <td>17</td>\n",
       "      <td>Consumer Discretionary</td>\n",
       "      <td>United Kingdom</td>\n",
       "      <td>2019</td>\n",
       "      <td>0.631597</td>\n",
       "      <td>0.460925</td>\n",
       "      <td>0.492347</td>\n",
       "      <td>0.491910</td>\n",
       "      <td>0.000125</td>\n",
       "      <td>...</td>\n",
       "      <td>0.563498</td>\n",
       "      <td>0.000</td>\n",
       "      <td>0.000</td>\n",
       "      <td>0.000</td>\n",
       "      <td>0.0</td>\n",
       "      <td>0.0</td>\n",
       "      <td>0.0</td>\n",
       "      <td>0.728606</td>\n",
       "      <td>0.181924</td>\n",
       "      <td>0.260856</td>\n",
       "    </tr>\n",
       "    <tr>\n",
       "      <th>4</th>\n",
       "      <td>Company No18</td>\n",
       "      <td>18</td>\n",
       "      <td>Industrials</td>\n",
       "      <td>United Kingdom</td>\n",
       "      <td>2019</td>\n",
       "      <td>0.152388</td>\n",
       "      <td>0.447137</td>\n",
       "      <td>0.538631</td>\n",
       "      <td>0.540481</td>\n",
       "      <td>0.000915</td>\n",
       "      <td>...</td>\n",
       "      <td>0.563386</td>\n",
       "      <td>0.000</td>\n",
       "      <td>0.000</td>\n",
       "      <td>0.000</td>\n",
       "      <td>0.0</td>\n",
       "      <td>0.0</td>\n",
       "      <td>0.0</td>\n",
       "      <td>0.724920</td>\n",
       "      <td>0.179470</td>\n",
       "      <td>0.257796</td>\n",
       "    </tr>\n",
       "  </tbody>\n",
       "</table>\n",
       "<p>5 rows × 45 columns</p>\n",
       "</div>"
      ],
      "text/plain": [
       "                       NAME  TICKER                  SECTOR         COUNTRY  \\\n",
       "0               Company No8       8               Materials  United Kingdom   \n",
       "1              Company No11      11             Industrials  United Kingdom   \n",
       "2  Barratt Developments PLC      16  Consumer Discretionary  United Kingdom   \n",
       "3              Company No17      17  Consumer Discretionary  United Kingdom   \n",
       "4              Company No18      18             Industrials  United Kingdom   \n",
       "\n",
       "   YEAR  AVERAGE RETURN  Beta_DnSide_24m 12 months prior  \\\n",
       "0  2019        0.250570                         0.466629   \n",
       "1  2019        0.516823                         0.520017   \n",
       "2  2019        0.811012                         0.449442   \n",
       "3  2019        0.631597                         0.460925   \n",
       "4  2019        0.152388                         0.447137   \n",
       "\n",
       "   Beta_DnSide_24m 24 months prior  Beta_DnSide_24m 36 months prior  \\\n",
       "0                         0.613881                         0.605679   \n",
       "1                         0.599024                         0.582105   \n",
       "2                         0.504130                         0.479913   \n",
       "3                         0.492347                         0.491910   \n",
       "4                         0.538631                         0.540481   \n",
       "\n",
       "   Diag DebtToEquity 12 months prior  ...  EPS 36 months prior  \\\n",
       "0                           0.000323  ...             0.563397   \n",
       "1                           0.000942  ...             0.563424   \n",
       "2                           0.000225  ...             0.563414   \n",
       "3                           0.000125  ...             0.563498   \n",
       "4                           0.000915  ...             0.563386   \n",
       "\n",
       "   GroupRank_Diag FreeCashFlowpers 12 months prior  \\\n",
       "0                                            0.716   \n",
       "1                                            0.603   \n",
       "2                                            0.413   \n",
       "3                                            0.000   \n",
       "4                                            0.000   \n",
       "\n",
       "   GroupRank_Diag FreeCashFlowpers 24 months prior  \\\n",
       "0                                            0.473   \n",
       "1                                            0.521   \n",
       "2                                            0.386   \n",
       "3                                            0.000   \n",
       "4                                            0.000   \n",
       "\n",
       "   GroupRank_Diag FreeCashFlowpers 36 months prior  \\\n",
       "0                                            0.115   \n",
       "1                                            0.105   \n",
       "2                                            0.547   \n",
       "3                                            0.000   \n",
       "4                                            0.000   \n",
       "\n",
       "   GroupRank_NPL_Loans_egSector 12 months prior  \\\n",
       "0                                           0.0   \n",
       "1                                           0.0   \n",
       "2                                           0.0   \n",
       "3                                           0.0   \n",
       "4                                           0.0   \n",
       "\n",
       "   GroupRank_NPL_Loans_egSector 24 months prior  \\\n",
       "0                                           0.0   \n",
       "1                                           0.0   \n",
       "2                                           0.0   \n",
       "3                                           0.0   \n",
       "4                                           0.0   \n",
       "\n",
       "   GroupRank_NPL_Loans_egSector 36 months prior  \\\n",
       "0                                           0.0   \n",
       "1                                           0.0   \n",
       "2                                           0.0   \n",
       "3                                           0.0   \n",
       "4                                           0.0   \n",
       "\n",
       "   Mkt_Beta_2yrs 12 months prior  Mkt_Beta_2yrs 24 months prior  \\\n",
       "0                       0.733146                       0.179791   \n",
       "1                       0.749883                       0.180655   \n",
       "2                       0.728778                       0.180987   \n",
       "3                       0.728606                       0.181924   \n",
       "4                       0.724920                       0.179470   \n",
       "\n",
       "   Mkt_Beta_2yrs 36 months prior  \n",
       "0                       0.266553  \n",
       "1                       0.265154  \n",
       "2                       0.258411  \n",
       "3                       0.260856  \n",
       "4                       0.257796  \n",
       "\n",
       "[5 rows x 45 columns]"
      ]
     },
     "execution_count": 13,
     "metadata": {},
     "output_type": "execute_result"
    }
   ],
   "source": [
    "X = pd.read_csv(\"X.csv\")\n",
    "X.head()"
   ]
  },
  {
   "cell_type": "code",
   "execution_count": 14,
   "id": "hazardous-junction",
   "metadata": {},
   "outputs": [
    {
     "name": "stdout",
     "output_type": "stream",
     "text": [
      "There are 11 unique sectors in the data, and 60 unique countries in the data.\n"
     ]
    }
   ],
   "source": [
    "nsectors = len(pd.unique(X['SECTOR']))     # number of unique sectors\n",
    "ncountries = len(pd.unique(X['COUNTRY']))  # number of unique countries\n",
    "\n",
    "print (\"There are %i unique sectors in the data, and %i unique countries in the data.\" % (nsectors, ncountries))"
   ]
  },
  {
   "cell_type": "markdown",
   "id": "vocational-librarian",
   "metadata": {},
   "source": [
    "So there are a lot more countries than there are sectors. Now let us look at the frequency distributions of the countries and sectors columns. Recall that from stacking the data during preprocessing a company can appear multiple times in ```X```. We therefore have to take extra care to ensure that each company in only counted once when we calculate the frequenct distributions."
   ]
  },
  {
   "cell_type": "code",
   "execution_count": 15,
   "id": "median-angel",
   "metadata": {},
   "outputs": [],
   "source": [
    "# extract a Series containing the index where each company appears first in X\n",
    "unique_companies = X['TICKER'].drop_duplicates(keep = 'first')\n",
    "\n",
    "# extract the set of unique companies from X\n",
    "X_unique = X.loc[unique_companies.index]\n",
    "\n",
    "# remove the columns that we are not interested in at the moment\n",
    "X_unique = X_unique[[\"NAME\", \"COUNTRY\", \"SECTOR\"]]\n",
    "\n",
    "X_unique = X_unique.set_index(\"NAME\")"
   ]
  },
  {
   "cell_type": "markdown",
   "id": "regular-state",
   "metadata": {},
   "source": [
    "Now that we have the set of unique companies, we can look at the frequency distributions in the ```COUNTRY``` and ```SECTOR``` columns."
   ]
  },
  {
   "cell_type": "code",
   "execution_count": 16,
   "id": "decreased-bernard",
   "metadata": {},
   "outputs": [
    {
     "data": {
      "image/png": "[encoded data removed]",
      "text/plain": [
       "<Figure size 1152x288 with 1 Axes>"
      ]
     },
     "metadata": {
      "needs_background": "light"
     },
     "output_type": "display_data"
    }
   ],
   "source": [
    "fig, ax = plt.subplots(1, 1, figsize=(16,4))\n",
    "sns.countplot(data=X, x='COUNTRY', ax=ax)\n",
    "ax.set_title(\"Frequency plot showing the number of companies that operate in each country\")\n",
    "\n",
    "# rotate the country names in the x-axis by 90 degrees\n",
    "for tick in ax.get_xticklabels():\n",
    "        tick.set_rotation(90) "
   ]
  },
  {
   "cell_type": "code",
   "execution_count": 17,
   "id": "serious-compiler",
   "metadata": {},
   "outputs": [
    {
     "data": {
      "image/png": "[encoded data removed]",
      "text/plain": [
       "<Figure size 576x288 with 1 Axes>"
      ]
     },
     "metadata": {
      "needs_background": "light"
     },
     "output_type": "display_data"
    }
   ],
   "source": [
    "fig, ax = plt.subplots(1, 1, figsize=(8,4))\n",
    "sns.countplot(data=X, x='SECTOR', ax=ax)\n",
    "ax.set_title(\"Frequency plot showing the number of companies that operate in each sector\")\n",
    "\n",
    "# rotate the sector names in the x-axis by 90 degrees\n",
    "for tick in ax.get_xticklabels():\n",
    "        tick.set_rotation(90) "
   ]
  },
  {
   "cell_type": "markdown",
   "id": "chubby-solomon",
   "metadata": {},
   "source": [
    "## 2. One-hot encoding\n",
    "\n",
    "- One-hot encoding is a simple way that we can convert non-numeric data into a numeric form. \n",
    "- Let us take the ```SECTORS``` column as an example. \n",
    "- ... If we were to one-hot encode this column then we would split this column into 11 seperate columns. Each of the columns represent one of the 11 sectors. For each company we put a 1 in the column that corresponds to the sector that company belongs to and a 0 in the rest on the columns. We can do this easily in pandas by using the ```pd.get_dummies()``` function."
   ]
  },
  {
   "cell_type": "code",
   "execution_count": 18,
   "id": "temporal-virus",
   "metadata": {},
   "outputs": [
    {
     "data": {
      "text/html": [
       "<div>\n",
       "<style scoped>\n",
       "    .dataframe tbody tr th:only-of-type {\n",
       "        vertical-align: middle;\n",
       "    }\n",
       "\n",
       "    .dataframe tbody tr th {\n",
       "        vertical-align: top;\n",
       "    }\n",
       "\n",
       "    .dataframe thead th {\n",
       "        text-align: right;\n",
       "    }\n",
       "</style>\n",
       "<table border=\"1\" class=\"dataframe\">\n",
       "  <thead>\n",
       "    <tr style=\"text-align: right;\">\n",
       "      <th></th>\n",
       "      <th>Consumer Discretionary</th>\n",
       "      <th>Consumer Staples</th>\n",
       "      <th>Energy</th>\n",
       "      <th>Financials</th>\n",
       "      <th>Health Care</th>\n",
       "      <th>Industrials</th>\n",
       "      <th>Information Technology</th>\n",
       "      <th>Materials</th>\n",
       "      <th>NOT SPECIFIED</th>\n",
       "      <th>Telecommunication Services</th>\n",
       "      <th>Utilities</th>\n",
       "    </tr>\n",
       "    <tr>\n",
       "      <th>NAME</th>\n",
       "      <th></th>\n",
       "      <th></th>\n",
       "      <th></th>\n",
       "      <th></th>\n",
       "      <th></th>\n",
       "      <th></th>\n",
       "      <th></th>\n",
       "      <th></th>\n",
       "      <th></th>\n",
       "      <th></th>\n",
       "      <th></th>\n",
       "    </tr>\n",
       "  </thead>\n",
       "  <tbody>\n",
       "    <tr>\n",
       "      <th>Company No8</th>\n",
       "      <td>0</td>\n",
       "      <td>0</td>\n",
       "      <td>0</td>\n",
       "      <td>0</td>\n",
       "      <td>0</td>\n",
       "      <td>0</td>\n",
       "      <td>0</td>\n",
       "      <td>1</td>\n",
       "      <td>0</td>\n",
       "      <td>0</td>\n",
       "      <td>0</td>\n",
       "    </tr>\n",
       "    <tr>\n",
       "      <th>Company No11</th>\n",
       "      <td>0</td>\n",
       "      <td>0</td>\n",
       "      <td>0</td>\n",
       "      <td>0</td>\n",
       "      <td>0</td>\n",
       "      <td>1</td>\n",
       "      <td>0</td>\n",
       "      <td>0</td>\n",
       "      <td>0</td>\n",
       "      <td>0</td>\n",
       "      <td>0</td>\n",
       "    </tr>\n",
       "    <tr>\n",
       "      <th>Barratt Developments PLC</th>\n",
       "      <td>1</td>\n",
       "      <td>0</td>\n",
       "      <td>0</td>\n",
       "      <td>0</td>\n",
       "      <td>0</td>\n",
       "      <td>0</td>\n",
       "      <td>0</td>\n",
       "      <td>0</td>\n",
       "      <td>0</td>\n",
       "      <td>0</td>\n",
       "      <td>0</td>\n",
       "    </tr>\n",
       "    <tr>\n",
       "      <th>Company No17</th>\n",
       "      <td>1</td>\n",
       "      <td>0</td>\n",
       "      <td>0</td>\n",
       "      <td>0</td>\n",
       "      <td>0</td>\n",
       "      <td>0</td>\n",
       "      <td>0</td>\n",
       "      <td>0</td>\n",
       "      <td>0</td>\n",
       "      <td>0</td>\n",
       "      <td>0</td>\n",
       "    </tr>\n",
       "    <tr>\n",
       "      <th>Company No18</th>\n",
       "      <td>0</td>\n",
       "      <td>0</td>\n",
       "      <td>0</td>\n",
       "      <td>0</td>\n",
       "      <td>0</td>\n",
       "      <td>1</td>\n",
       "      <td>0</td>\n",
       "      <td>0</td>\n",
       "      <td>0</td>\n",
       "      <td>0</td>\n",
       "      <td>0</td>\n",
       "    </tr>\n",
       "  </tbody>\n",
       "</table>\n",
       "</div>"
      ],
      "text/plain": [
       "                          Consumer Discretionary  Consumer Staples  Energy  \\\n",
       "NAME                                                                         \n",
       "Company No8                                    0                 0       0   \n",
       "Company No11                                   0                 0       0   \n",
       "Barratt Developments PLC                       1                 0       0   \n",
       "Company No17                                   1                 0       0   \n",
       "Company No18                                   0                 0       0   \n",
       "\n",
       "                          Financials  Health Care  Industrials  \\\n",
       "NAME                                                             \n",
       "Company No8                        0            0            0   \n",
       "Company No11                       0            0            1   \n",
       "Barratt Developments PLC           0            0            0   \n",
       "Company No17                       0            0            0   \n",
       "Company No18                       0            0            1   \n",
       "\n",
       "                          Information Technology  Materials  NOT SPECIFIED  \\\n",
       "NAME                                                                         \n",
       "Company No8                                    0          1              0   \n",
       "Company No11                                   0          0              0   \n",
       "Barratt Developments PLC                       0          0              0   \n",
       "Company No17                                   0          0              0   \n",
       "Company No18                                   0          0              0   \n",
       "\n",
       "                          Telecommunication Services  Utilities  \n",
       "NAME                                                             \n",
       "Company No8                                        0          0  \n",
       "Company No11                                       0          0  \n",
       "Barratt Developments PLC                           0          0  \n",
       "Company No17                                       0          0  \n",
       "Company No18                                       0          0  "
      ]
     },
     "execution_count": 18,
     "metadata": {},
     "output_type": "execute_result"
    }
   ],
   "source": [
    "pd.get_dummies(X_unique['SECTOR']).head()"
   ]
  },
  {
   "cell_type": "markdown",
   "id": "choice-edition",
   "metadata": {},
   "source": [
    "Let us one-hot encode the ```SECTOR``` and ```COUNTRY``` columns."
   ]
  },
  {
   "cell_type": "code",
   "execution_count": 19,
   "id": "solid-brain",
   "metadata": {},
   "outputs": [
    {
     "data": {
      "text/html": [
       "<div>\n",
       "<style scoped>\n",
       "    .dataframe tbody tr th:only-of-type {\n",
       "        vertical-align: middle;\n",
       "    }\n",
       "\n",
       "    .dataframe tbody tr th {\n",
       "        vertical-align: top;\n",
       "    }\n",
       "\n",
       "    .dataframe thead th {\n",
       "        text-align: right;\n",
       "    }\n",
       "</style>\n",
       "<table border=\"1\" class=\"dataframe\">\n",
       "  <thead>\n",
       "    <tr style=\"text-align: right;\">\n",
       "      <th></th>\n",
       "      <th>Consumer Discretionary</th>\n",
       "      <th>Consumer Staples</th>\n",
       "      <th>Energy</th>\n",
       "      <th>Financials</th>\n",
       "      <th>Health Care</th>\n",
       "      <th>Industrials</th>\n",
       "      <th>Information Technology</th>\n",
       "      <th>Materials</th>\n",
       "      <th>NOT SPECIFIED</th>\n",
       "      <th>Telecommunication Services</th>\n",
       "      <th>...</th>\n",
       "      <th>Sri Lanka</th>\n",
       "      <th>Sweden</th>\n",
       "      <th>Switzerland</th>\n",
       "      <th>Taiwan</th>\n",
       "      <th>Thailand</th>\n",
       "      <th>Turkey</th>\n",
       "      <th>United Arab Emirates</th>\n",
       "      <th>United Kingdom</th>\n",
       "      <th>United States</th>\n",
       "      <th>Venezuela</th>\n",
       "    </tr>\n",
       "  </thead>\n",
       "  <tbody>\n",
       "    <tr>\n",
       "      <th>0</th>\n",
       "      <td>0</td>\n",
       "      <td>0</td>\n",
       "      <td>0</td>\n",
       "      <td>0</td>\n",
       "      <td>0</td>\n",
       "      <td>0</td>\n",
       "      <td>0</td>\n",
       "      <td>1</td>\n",
       "      <td>0</td>\n",
       "      <td>0</td>\n",
       "      <td>...</td>\n",
       "      <td>0</td>\n",
       "      <td>0</td>\n",
       "      <td>0</td>\n",
       "      <td>0</td>\n",
       "      <td>0</td>\n",
       "      <td>0</td>\n",
       "      <td>0</td>\n",
       "      <td>1</td>\n",
       "      <td>0</td>\n",
       "      <td>0</td>\n",
       "    </tr>\n",
       "    <tr>\n",
       "      <th>1</th>\n",
       "      <td>0</td>\n",
       "      <td>0</td>\n",
       "      <td>0</td>\n",
       "      <td>0</td>\n",
       "      <td>0</td>\n",
       "      <td>1</td>\n",
       "      <td>0</td>\n",
       "      <td>0</td>\n",
       "      <td>0</td>\n",
       "      <td>0</td>\n",
       "      <td>...</td>\n",
       "      <td>0</td>\n",
       "      <td>0</td>\n",
       "      <td>0</td>\n",
       "      <td>0</td>\n",
       "      <td>0</td>\n",
       "      <td>0</td>\n",
       "      <td>0</td>\n",
       "      <td>1</td>\n",
       "      <td>0</td>\n",
       "      <td>0</td>\n",
       "    </tr>\n",
       "    <tr>\n",
       "      <th>2</th>\n",
       "      <td>1</td>\n",
       "      <td>0</td>\n",
       "      <td>0</td>\n",
       "      <td>0</td>\n",
       "      <td>0</td>\n",
       "      <td>0</td>\n",
       "      <td>0</td>\n",
       "      <td>0</td>\n",
       "      <td>0</td>\n",
       "      <td>0</td>\n",
       "      <td>...</td>\n",
       "      <td>0</td>\n",
       "      <td>0</td>\n",
       "      <td>0</td>\n",
       "      <td>0</td>\n",
       "      <td>0</td>\n",
       "      <td>0</td>\n",
       "      <td>0</td>\n",
       "      <td>1</td>\n",
       "      <td>0</td>\n",
       "      <td>0</td>\n",
       "    </tr>\n",
       "    <tr>\n",
       "      <th>3</th>\n",
       "      <td>1</td>\n",
       "      <td>0</td>\n",
       "      <td>0</td>\n",
       "      <td>0</td>\n",
       "      <td>0</td>\n",
       "      <td>0</td>\n",
       "      <td>0</td>\n",
       "      <td>0</td>\n",
       "      <td>0</td>\n",
       "      <td>0</td>\n",
       "      <td>...</td>\n",
       "      <td>0</td>\n",
       "      <td>0</td>\n",
       "      <td>0</td>\n",
       "      <td>0</td>\n",
       "      <td>0</td>\n",
       "      <td>0</td>\n",
       "      <td>0</td>\n",
       "      <td>1</td>\n",
       "      <td>0</td>\n",
       "      <td>0</td>\n",
       "    </tr>\n",
       "    <tr>\n",
       "      <th>4</th>\n",
       "      <td>0</td>\n",
       "      <td>0</td>\n",
       "      <td>0</td>\n",
       "      <td>0</td>\n",
       "      <td>0</td>\n",
       "      <td>1</td>\n",
       "      <td>0</td>\n",
       "      <td>0</td>\n",
       "      <td>0</td>\n",
       "      <td>0</td>\n",
       "      <td>...</td>\n",
       "      <td>0</td>\n",
       "      <td>0</td>\n",
       "      <td>0</td>\n",
       "      <td>0</td>\n",
       "      <td>0</td>\n",
       "      <td>0</td>\n",
       "      <td>0</td>\n",
       "      <td>1</td>\n",
       "      <td>0</td>\n",
       "      <td>0</td>\n",
       "    </tr>\n",
       "  </tbody>\n",
       "</table>\n",
       "<p>5 rows × 71 columns</p>\n",
       "</div>"
      ],
      "text/plain": [
       "   Consumer Discretionary  Consumer Staples  Energy  Financials  Health Care  \\\n",
       "0                       0                 0       0           0            0   \n",
       "1                       0                 0       0           0            0   \n",
       "2                       1                 0       0           0            0   \n",
       "3                       1                 0       0           0            0   \n",
       "4                       0                 0       0           0            0   \n",
       "\n",
       "   Industrials  Information Technology  Materials  NOT SPECIFIED  \\\n",
       "0            0                       0          1              0   \n",
       "1            1                       0          0              0   \n",
       "2            0                       0          0              0   \n",
       "3            0                       0          0              0   \n",
       "4            1                       0          0              0   \n",
       "\n",
       "   Telecommunication Services  ...  Sri Lanka  Sweden  Switzerland  Taiwan  \\\n",
       "0                           0  ...          0       0            0       0   \n",
       "1                           0  ...          0       0            0       0   \n",
       "2                           0  ...          0       0            0       0   \n",
       "3                           0  ...          0       0            0       0   \n",
       "4                           0  ...          0       0            0       0   \n",
       "\n",
       "   Thailand  Turkey  United Arab Emirates  United Kingdom  United States  \\\n",
       "0         0       0                     0               1              0   \n",
       "1         0       0                     0               1              0   \n",
       "2         0       0                     0               1              0   \n",
       "3         0       0                     0               1              0   \n",
       "4         0       0                     0               1              0   \n",
       "\n",
       "   Venezuela  \n",
       "0          0  \n",
       "1          0  \n",
       "2          0  \n",
       "3          0  \n",
       "4          0  \n",
       "\n",
       "[5 rows x 71 columns]"
      ]
     },
     "execution_count": 19,
     "metadata": {},
     "output_type": "execute_result"
    }
   ],
   "source": [
    "ohe = pd.concat([\n",
    "    pd.get_dummies(X['SECTOR']),\n",
    "    pd.get_dummies(X['COUNTRY'])\n",
    "], axis=1)\n",
    "ohe.head()"
   ]
  },
  {
   "cell_type": "markdown",
   "id": "round-pursuit",
   "metadata": {},
   "source": [
    "One-hot encoding these columns will result in 71 new columns. These columns are high dimensional and very sparse (only two non-zero values per row). High dimensional sparse data can be difficult for a lot of machine learning models to deal with. Therefore it is normally a good idea to try and reduce the dimensions of one-hot encoded data. In this notebook we will use PCA and autoencoders to do just that. Let us start with PCA.\n",
    "\n",
    "## 3. PCA\n",
    "\n",
    "- Principle component analysis (PCA) is a method of reducing the dimensions of the data. \n",
    "- This is done by projecting the data onto principle components that point in the direction of most variance. \n",
    "\n",
    "What does this mean? In this section, we will try and get an intuitive idea behind what PCA is by looking at a simple two-dimensioal example. We start by generating some two-dimensional data that we can reduce the dimensions of."
   ]
  },
  {
   "cell_type": "code",
   "execution_count": 23,
   "id": "retained-moral",
   "metadata": {},
   "outputs": [
    {
     "data": {
      "image/png": "[encoded data removed]",
      "text/plain": [
       "<Figure size 360x360 with 1 Axes>"
      ]
     },
     "metadata": {
      "needs_background": "light"
     },
     "output_type": "display_data"
    }
   ],
   "source": [
    "# generate some data\n",
    "n = 200\n",
    "D = np.random.multivariate_normal(\n",
    "    mean = [0, 0], \n",
    "    cov = [[3, 2], [2,3]], # covariance matrix\n",
    "    size = (n))\n",
    "fig, ax = plt.subplots(1,1,figsize=(5,5))\n",
    "sns.scatterplot(x=D[:,0], y=D[:,1], ax=ax);"
   ]
  },
  {
   "cell_type": "markdown",
   "id": "placed-network",
   "metadata": {},
   "source": [
    "Let us use PCA to generate the two principle components in the data."
   ]
  },
  {
   "cell_type": "code",
   "execution_count": 24,
   "id": "accurate-elder",
   "metadata": {},
   "outputs": [
    {
     "name": "stdout",
     "output_type": "stream",
     "text": [
      "The first principle compenent is:   [-0.65667562 -0.75417314]\n",
      "The second principle compenent is:  [-0.75417314  0.65667562]\n"
     ]
    }
   ],
   "source": [
    "from sklearn.decomposition import PCA\n",
    "\n",
    "# fit two principle components in the data\n",
    "pca = PCA(n_components = 2)\n",
    "pca.fit(D)\n",
    "\n",
    "# extract the principle components\n",
    "pc1 = pca.components_[:, 0]\n",
    "pc2 = pca.components_[:, 1]\n",
    "print(\"The first principle compenent is:  \", pc1)\n",
    "print(\"The second principle compenent is: \", pc2)"
   ]
  },
  {
   "cell_type": "markdown",
   "id": "generous-snake",
   "metadata": {},
   "source": [
    "The principle components ```pc1```, and ```pc2``` are vectors and thus have a direction. Let us see what direction the principle components point. "
   ]
  },
  {
   "cell_type": "code",
   "execution_count": 25,
   "id": "emotional-flood",
   "metadata": {},
   "outputs": [
    {
     "data": {
      "image/png": "[encoded data removed]",
      "text/plain": [
       "<Figure size 360x360 with 1 Axes>"
      ]
     },
     "metadata": {
      "needs_background": "light"
     },
     "output_type": "display_data"
    }
   ],
   "source": [
    "fig, ax = plt.subplots(1,1,figsize=(5,5))\n",
    "sns.scatterplot(x = D[:, 0], y = D[:, 1])\n",
    "\n",
    "# draw an arrow for pc1\n",
    "ax.arrow(x = 0, y = 0, dx = pc1[0], dy = pc1[0], \n",
    "          color='tab:orange', width = 0.15, label='pc1')\n",
    "\n",
    "# draw an arrow for pc2\n",
    "ax.arrow(x = 0, y = 0, dx = pc2[0], dy =pc2[1], \n",
    "          color='tab:red', width = 0.15, label='pc2')\n",
    "\n",
    "# we set the limits for x and y axis to be the same so our perspective is not warped\n",
    "ax.set_xlim(-5, 5)\n",
    "ax.set_ylim(-5, 5)\n",
    "\n",
    "ax.legend();"
   ]
  },
  {
   "cell_type": "markdown",
   "id": "conditional-homeless",
   "metadata": {},
   "source": [
    "The first principle component, ```pc1```, points in the direction of most variance. The second principle component. ```pc2```, is orthogonal to ```pc1``` and points in the direction of least variance. In fact scikit-learn orders the principle components in descending order of variance. So the first principle component always points in the direction of most variance.\n",
    "\n",
    "What can we use these principle components for? We can project our data onto a subset of the principle components to get a lower dimensional representation of the data. In this example we project the data onto one of these principle componenents to get a one-dimensional representation of the data. We can project our data onto a principal component (or any vector for that matter) simply by finding the dot product of the data and the principle component. \n",
    "\n",
    "The figure below should help the reader visualise what is going on when we project our data onto a principle component. In the left figure, the olive lines show where each data point ends up on ```pc1``` after projection. The figure on the right shows the distribution on the data points after they have been projected onto ```pc1```."
   ]
  },
  {
   "cell_type": "code",
   "execution_count": 26,
   "id": "universal-demonstration",
   "metadata": {},
   "outputs": [
    {
     "name": "stderr",
     "output_type": "stream",
     "text": [
      "No handles with labels found to put in legend.\n"
     ]
    },
    {
     "data": {
      "image/png": "[encoded data removed]",
      "text/plain": [
       "<Figure size 1008x504 with 2 Axes>"
      ]
     },
     "metadata": {
      "needs_background": "light"
     },
     "output_type": "display_data"
    }
   ],
   "source": [
    "proj1 = D @ pc1 # project the data onto pc1\n",
    "dists = np.array([proj1[i] * pc1 for i in range(n)])\n",
    "\n",
    "fig, ax = plt.subplots(1,2,figsize=(14,7))\n",
    "\n",
    "sns.scatterplot(x=D[:,0], y=D[:,1], ax=ax[0])\n",
    "sns.lineplot(x=dists[:,0], y=dists[:,1], ax=ax[0], color='tab:red', label='pc1')\n",
    "\n",
    "for i in range(n):\n",
    "    ax[0].plot(\n",
    "        [D[i, 0], dists[i, 0]], \n",
    "        [D[i, 1], dists[i, 1]], \n",
    "        color=\"tab:olive\", alpha=0.8, linestyle='--'\n",
    "    )\n",
    "plt.legend();\n",
    "\n",
    "# plot a histogram to show the distribution of datapoints after they have been projected onto pc1\n",
    "sns.histplot(proj1, color='tab:red')\n",
    "\n",
    "# we set the limits for the x and y axis to be the same to avoid getting a warped perspective\n",
    "ax[0].set_xlim(-4,4)\n",
    "ax[0].set_ylim(-4,4);"
   ]
  },
  {
   "cell_type": "markdown",
   "id": "suburban-thumbnail",
   "metadata": {},
   "source": [
    "Let us now see how the distributions differ when we project the data onto ```pc1``` and onto ```pc2```."
   ]
  },
  {
   "cell_type": "code",
   "execution_count": 27,
   "id": "stuck-taylor",
   "metadata": {},
   "outputs": [
    {
     "data": {
      "image/png": "[encoded data removed]",
      "text/plain": [
       "<Figure size 360x360 with 1 Axes>"
      ]
     },
     "metadata": {
      "needs_background": "light"
     },
     "output_type": "display_data"
    }
   ],
   "source": [
    "proj1 = D @ pc1\n",
    "proj2 = D @ pc2\n",
    "\n",
    "fig, ax = plt.subplots(1,1,figsize=(5,5))\n",
    "sns.histplot(proj1, ax=ax, label='pc1 projection')\n",
    "sns.histplot(proj2, ax=ax, color='orange', label='pc2 projection')\n",
    "ax.legend();"
   ]
  },
  {
   "cell_type": "markdown",
   "id": "changing-bibliography",
   "metadata": {},
   "source": [
    "### Using PCA to reduce the dimensions of our one-hot encoded features\n",
    "\n",
    "- Recall that our one-hot encoded features have 71 columns. \n",
    "- We now try to reduce this dimensionality. \n",
    "- We will do this by splitting the data into a training and test set. \n",
    "- We use the training set to find the principle components that we will use to reduce the dimensions of the one-hot encoded features in the training and test sets. \n",
    "- We then train an ordinary least squares regression (OLS) model on the training set and see how it performs on the test set."
   ]
  },
  {
   "cell_type": "code",
   "execution_count": 28,
   "id": "taken-crime",
   "metadata": {},
   "outputs": [],
   "source": [
    "from sklearn.model_selection import train_test_split\n",
    "\n",
    "y = X['AVERAGE RETURN']\n",
    "\n",
    "# drop the unwanted columns\n",
    "X_ = X.drop(['NAME', 'TICKER', 'COUNTRY', 'SECTOR', 'YEAR', 'AVERAGE RETURN'], axis=1)\n",
    "\n",
    "# split the data into a train and test set\n",
    "X_train, X_test, y_train, y_test = train_test_split(X_, y, test_size=0.33, random_state=42)\n",
    "\n",
    "# split the one-hot encoded features into a training and a test set\n",
    "ohe_train = ohe.loc[X_train.index]\n",
    "ohe_test = ohe.loc[X_test.index]"
   ]
  },
  {
   "cell_type": "markdown",
   "id": "awful-exclusion",
   "metadata": {},
   "source": [
    "Now we use PCA to reduce the dimensions of the one-hot encoded features and see how the OLS models perform using different numbers of dimensions."
   ]
  },
  {
   "cell_type": "code",
   "execution_count": 29,
   "id": "lightweight-chess",
   "metadata": {},
   "outputs": [
    {
     "name": "stdout",
     "output_type": "stream",
     "text": [
      "i = 1   loss = 0.921693\n",
      "i = 2   loss = 0.858439\n",
      "i = 3   loss = 0.843967\n",
      "i = 4   loss = 0.907501\n",
      "i = 5   loss = 0.916374\n",
      "i = 6   loss = 0.929745\n",
      "i = 7   loss = 0.918242\n",
      "i = 8   loss = 0.966157\n",
      "i = 9   loss = 0.967323\n",
      "i = 10   loss = 0.978327\n",
      "i = 11   loss = 0.945112\n",
      "i = 12   loss = 0.939978\n",
      "i = 13   loss = 0.937959\n",
      "i = 14   loss = 0.948211\n",
      "i = 15   loss = 0.956003\n",
      "i = 16   loss = 0.954533\n",
      "i = 17   loss = 0.965261\n",
      "i = 18   loss = 0.963509\n",
      "i = 19   loss = 0.962013\n",
      "i = 20   loss = 0.956834\n",
      "i = 21   loss = 0.951080\n",
      "i = 22   loss = 0.959850\n",
      "i = 23   loss = 0.973131\n",
      "i = 24   loss = 0.969481\n",
      "i = 25   loss = 0.966492\n",
      "i = 26   loss = 0.905505\n",
      "i = 27   loss = 0.888454\n",
      "i = 28   loss = 0.824516\n",
      "i = 29   loss = 0.647068\n",
      "i = 30   loss = 0.740984\n",
      "i = 31   loss = 0.729663\n",
      "i = 32   loss = 0.729040\n",
      "i = 33   loss = 0.729113\n",
      "i = 34   loss = 0.726532\n",
      "i = 35   loss = 0.724312\n",
      "i = 36   loss = 0.724188\n",
      "i = 37   loss = 0.708966\n",
      "i = 38   loss = 0.546470\n",
      "i = 39   loss = 0.549272\n",
      "i = 40   loss = 0.533093\n",
      "i = 41   loss = 0.500441\n",
      "i = 42   loss = 0.541393\n",
      "i = 43   loss = 0.546190\n",
      "i = 44   loss = 0.546135\n",
      "i = 45   loss = 0.547302\n",
      "i = 46   loss = 0.538343\n",
      "i = 47   loss = 0.540842\n",
      "i = 48   loss = 0.536083\n",
      "i = 49   loss = 0.527069\n",
      "i = 50   loss = 0.524799\n",
      "i = 51   loss = 0.521156\n",
      "i = 52   loss = 0.519981\n",
      "i = 53   loss = 0.519848\n",
      "i = 54   loss = 0.518152\n",
      "i = 55   loss = 0.526729\n",
      "i = 56   loss = 0.526756\n",
      "i = 57   loss = 0.527880\n",
      "i = 58   loss = 0.526595\n",
      "i = 59   loss = 0.525689\n",
      "i = 60   loss = 0.525527\n",
      "i = 61   loss = 0.525566\n",
      "i = 62   loss = 0.524734\n",
      "i = 63   loss = 0.523130\n",
      "i = 64   loss = 0.522683\n",
      "i = 65   loss = 0.522608\n",
      "i = 66   loss = 0.522545\n",
      "i = 67   loss = 0.521778\n",
      "i = 68   loss = 0.521767\n",
      "i = 69   loss = 0.522239\n",
      "i = 70   loss = 0.522239\n",
      "best_i = 70   pca_best_loss_train = 0.143605   pca_best_loss_test = 0.522239\n"
     ]
    }
   ],
   "source": [
    "# **************************************\n",
    "# **************************************\n",
    "# LONG PROCESSING TIME!!\n",
    "# **************************************\n",
    "# **************************************\n",
    "\n",
    "from statsmodels.regression.linear_model import OLS\n",
    "from sklearn.metrics import mean_squared_error\n",
    "\n",
    "best_i = 0\n",
    "best_j = 0\n",
    "pca_best_loss_train = np.inf\n",
    "pca_best_loss_test = np.inf\n",
    "\n",
    "loss_hist = pd.DataFrame(columns=['num_components', 'loss'])\n",
    "for i in range(1, ohe.shape[1]):\n",
    "    pca = PCA(n_components=i)\n",
    "    pca.fit(ohe_train)\n",
    "\n",
    "    # reduce the dimension of the one-hot encoded training data\n",
    "    ohe_train_reduced = pca.transform(ohe_train)\n",
    "    ohe_test_reduced = pca.transform(ohe_test)\n",
    "    \n",
    "    # append the reduced one hot enoded feeatures to X_train and X_test\n",
    "    X_train_reduced = np.hstack((X_train, ohe_train_reduced))\n",
    "    X_test_reduced = np.hstack((X_test, ohe_test_reduced))\n",
    "\n",
    "    ols_model = OLS(y_train, X_train_reduced)\n",
    "    res = ols_model.fit()\n",
    "\n",
    "    loss_train = mean_squared_error(res.predict(X_train_reduced), y_train)\n",
    "    loss_test = mean_squared_error(res.predict(X_test_reduced), y_test)\n",
    "    loss_hist.loc[loss_hist.shape[0] + 1] = [i, loss_test]\n",
    "\n",
    "    if loss_train < pca_best_loss_train:\n",
    "        pca_best_loss_train = loss_train\n",
    "        pca_best_loss_test = loss_test\n",
    "        best_i = i\n",
    "    print(\"i = %i   loss = %f\" % (i, loss_test))\n",
    "print(\"best_i = %i   pca_best_loss_train = %f   pca_best_loss_test = %f\" % (best_i, pca_best_loss_train, pca_best_loss_test))"
   ]
  },
  {
   "cell_type": "code",
   "execution_count": 30,
   "id": "acquired-brand",
   "metadata": {},
   "outputs": [
    {
     "data": {
      "text/plain": [
       "<AxesSubplot:xlabel='num_components', ylabel='loss'>"
      ]
     },
     "execution_count": 30,
     "metadata": {},
     "output_type": "execute_result"
    },
    {
     "data": {
      "image/png": "[encoded data removed]",
      "text/plain": [
       "<Figure size 432x288 with 1 Axes>"
      ]
     },
     "metadata": {
      "needs_background": "light"
     },
     "output_type": "display_data"
    }
   ],
   "source": [
    "sns.lineplot(data=loss_hist, y='loss', x='num_components')"
   ]
  },
  {
   "cell_type": "markdown",
   "id": "binding-louis",
   "metadata": {},
   "source": [
    "The OLS model performed best when we reduced the dimensions of the one-hot encoded features to 41. Let us now look at using an autoencoder to reduce the dimensions of data. \n",
    "\n",
    "# 4. Autoencoders\n",
    "\n",
    "- Auto encoders take a deep learning approach to reducing the dimensions of data. \n",
    "- An autoencoder is made up of two distinct parts: an encoder, and a decoder. The image below shows a very simple autoencoder.\n",
    "- The units in the middle generate a latent representation of the dataset - a distilled version of the data\n",
    "- IJn the graphic we reduce a data set of 8 dimensions to 4. \n",
    "- We now wrap the Pytorch autoencoder functions in a class...\n",
    "\n",
    "![autoencoder](images/autoencoder.png)\n",
    "\n",
    "The encoder has 8 input units, 0 hidden units, and 4 output units. The decoder has 4 input units, 0 hidden units and 8 output units. The output of the encoder is used as the input of the decoder. Let us suppose we have some 8-dimensional input $x$. To pass $x$ through the autoencoder, we first pass it through the encoder and then pass the output of the encoder through the decoder. So the encoder reduces the dimensons of the input from 8 to 4, and then the decoder increases the dimensions from 4 to 8. Perhaps the strangest thing about autoencoders is that for an input $x$ the target of the autoencoder is also $x$. In other words the goal of the encoader during training is to find an efficient low dimensional representation of $x$, and the goal of the decoder is to take that low dimensional representation and reconstruct the original input $x$.\n",
    "\n",
    "Our one-hot encoded features have 71 dimensions. So, we will create an autoencoder in Pytorch such that the encoder has 71 input units, 45 hidden units and 30 output units. The decoder will have 30 input units, 45 hidden units and 71 output units. Let us begin."
   ]
  },
  {
   "cell_type": "code",
   "execution_count": 31,
   "id": "functional-appeal",
   "metadata": {},
   "outputs": [],
   "source": [
    "import torch\n",
    "import torch.nn as nn\n",
    "\n",
    "class Autoencoder(nn.Module):\n",
    "    def __init__(self):\n",
    "        super(Autoencoder, self).__init__()\n",
    "        self.encoder = nn.Sequential(\n",
    "            nn.Linear(71, 45), # 11 input nodes 4 output nodes\n",
    "            nn.ReLU(),\n",
    "            nn.Linear(45, 15), # 45 input nodes 30 output nodes\n",
    "            nn.ReLU()\n",
    "        )\n",
    "        \n",
    "        self.decoder = nn.Sequential(\n",
    "            nn.Linear(15, 45), # 30 input units and 45 output units\n",
    "            nn.ReLU(),\n",
    "            nn.Linear(45, 71), # 45 input units and 71 output units\n",
    "            nn.Tanh()\n",
    "        )\n",
    "        \n",
    "    def forward(self, x):\n",
    "        # pass an input through the entire autoencoder\n",
    "        x = self.encoder(x)\n",
    "        x = self.decoder(x)\n",
    "        return x\n",
    "        \n",
    "    def encode(self, x):\n",
    "        # encode some input x\n",
    "        return self.encoder(x)"
   ]
  },
  {
   "cell_type": "markdown",
   "id": "minute-server",
   "metadata": {},
   "source": [
    "Now that we have defined our model we need to define a training loop for our model. To make things a little more clear, let us run through the fundamental components of a training loop in Pytorch:\n",
    "\n",
    "1. Epochs. Training a neural can be broken down into epochs. An epoch is defined as a cycle through the entire training data. Since neural networks usually contain lots (tens of millions in some cases) of parameters, we have train them slowly using a very small learning rate. We therefore have to pass the training data through the network multiple times to give the network chance to learn the data. \n",
    "\n",
    "2. Loss function. A loss function is what we use to determine how well our model is performing. In our autoencoder we will use mean squared error which can be called in Pytorch using the ```torch.nn.MSELoss``` function. Pytorch also uses this loss function to calculate gradients that are used to update the parameters of the model.\n",
    "\n",
    "3. Optimizer. An optimizer in Pytorch lets us define how we want the parameters in our model to be updated. In our autoencoder we will use stochastic gradient descent which can be called using the ```torch.optim.SGD()``` function. \n",
    "\n",
    "4. Batch loader. A batch loader lets us split the training data into mini-batches. This lets us pass data into the neural network in small batches as opposed to passing the entire training data into to the network in one go (batch gradient descent) or passing each training sample into network seperately. Using mini-batches can help speed up the training of the model, and improve how well it generalises. [This](https://datascience.stackexchange.com/questions/16807/why-mini-batch-size-is-better-than-one-single-batch-with-all-training-data) stack exchange thread has a great discussion on why one might use mini-batches. In Pytorch, we can create a batch loader by calling the ```torch.utils.data import DataLoader```.\n",
    "\n",
    "5. Calculating the training and test loss. After each epoch it is usually a good idea to see how the model performs on the entire training set and the test set. However there is a small hurdle we have to be aware doing this in Pytorch. Pytorch uses a very clever technique called [auto-differentiation](https://en.wikipedia.org/wiki/Automatic_differentiation) to automatically calculate the gradients used to update the weights in a model. This is computationally expensive and is not needed during testing since we do not want to update the parameters of the model during testing. We can briefly turn off Pytorch's auto-differentiation engine by using ```with torch.no_grad():``` which turns off auto-differentiation for any code in that block. This allows us to quickly test the performance of the model without performing any expensive auto-differentiation.\n",
    "\n",
    "Now let us write our training loop."
   ]
  },
  {
   "cell_type": "code",
   "execution_count": 32,
   "id": "packed-messaging",
   "metadata": {},
   "outputs": [
    {
     "name": "stderr",
     "output_type": "stream",
     "text": [
      "C:\\Users\\Alex\\anaconda3\\envs\\main\\lib\\site-packages\\torch\\autograd\\__init__.py:132: UserWarning: CUDA initialization: Found no NVIDIA driver on your system. Please check that you have an NVIDIA GPU and installed a driver from http://www.nvidia.com/Download/index.aspx (Triggered internally at  ..\\c10\\cuda\\CUDAFunctions.cpp:100.)\n",
      "  allow_unreachable=True)  # allow_unreachable flag\n"
     ]
    },
    {
     "name": "stdout",
     "output_type": "stream",
     "text": [
      "Epoch 0  training error 0.036508  test error 0.036399\n",
      "Epoch 10  training error 0.027471  test error 0.027399\n",
      "Epoch 20  training error 0.025800  test error 0.025746\n",
      "Epoch 30  training error 0.025406  test error 0.025360\n",
      "Epoch 40  training error 0.025293  test error 0.025249\n",
      "Epoch 50  training error 0.025243  test error 0.025201\n",
      "Epoch 60  training error 0.025207  test error 0.025165\n",
      "Epoch 70  training error 0.025176  test error 0.025135\n",
      "Epoch 80  training error 0.025145  test error 0.025104\n",
      "Epoch 90  training error 0.025113  test error 0.025071\n"
     ]
    }
   ],
   "source": [
    "# **************************************\n",
    "# **************************************\n",
    "# LONG PROCESSING TIME!!\n",
    "# **************************************\n",
    "# **************************************\n",
    "\n",
    "from torch.utils.data import DataLoader\n",
    "\n",
    "autoencoder = Autoencoder()\n",
    "\n",
    "# covert the training and test data into pytorch tensors\n",
    "ohe_train_tensor = torch.from_numpy(ohe_train.values).float()\n",
    "ohe_test_tensor = torch.from_numpy(ohe_test.values).float()\n",
    "\n",
    "nepochs=100 # number of epochs we train the model for\n",
    "\n",
    "optimizer = torch.optim.SGD(autoencoder.parameters(), lr=0.001)\n",
    "\n",
    "loss_fn = torch.nn.MSELoss()\n",
    "\n",
    "dataloader = DataLoader(dataset=ohe_train_tensor, batch_size=10, shuffle=True)\n",
    "\n",
    "loss_train_hist = []\n",
    "loss_test_hist = []\n",
    "\n",
    "for epoch in range(nepochs):\n",
    "    for ohe_train_tensor_batch in dataloader:\n",
    "        # set the gradients to zero from the previous batch\n",
    "        optimizer.zero_grad() \n",
    "        \n",
    "        y_hat = autoencoder(ohe_train_tensor_batch) \n",
    "        \n",
    "        loss_train = loss_fn(y_hat, ohe_train_tensor_batch) # batch error\n",
    "        \n",
    "        # backpropagate through the network to get the gradients needed to update the parameters in the model\n",
    "        loss_train.backward() \n",
    "        \n",
    "        # update the model paramters \n",
    "        optimizer.step()\n",
    "    \n",
    "    with torch.no_grad():\n",
    "        # calculate the training error\n",
    "        y_hat = autoencoder(ohe_train_tensor)\n",
    "        loss_train = loss_fn(y_hat, ohe_train_tensor)\n",
    "        \n",
    "        # calculate the test error\n",
    "        y_hat = autoencoder(ohe_test_tensor)\n",
    "        loss_test = loss_fn(y_hat, ohe_test_tensor)\n",
    "        \n",
    "        \n",
    "        loss_train_hist.append(loss_train)\n",
    "        loss_test_hist.append(loss_test)\n",
    "        if (epoch % 10 == 0):\n",
    "            print(\"Epoch %i  training error %f  test error %f\" % (epoch, loss_train.item(), loss_test.item()))"
   ]
  },
  {
   "cell_type": "markdown",
   "id": "dental-campus",
   "metadata": {},
   "source": [
    "Let us plot ```loss_train_hist```, and ```loss_test_hist```."
   ]
  },
  {
   "cell_type": "code",
   "execution_count": 34,
   "id": "fifth-employee",
   "metadata": {},
   "outputs": [
    {
     "data": {
      "text/plain": [
       "[<matplotlib.lines.Line2D at 0x2646917fe08>]"
      ]
     },
     "execution_count": 34,
     "metadata": {},
     "output_type": "execute_result"
    },
    {
     "data": {
      "image/png": "[encoded data removed]",
      "text/plain": [
       "<Figure size 432x288 with 1 Axes>"
      ]
     },
     "metadata": {
      "needs_background": "light"
     },
     "output_type": "display_data"
    }
   ],
   "source": [
    "plt.plot(loss_train_hist)\n",
    "plt.plot(loss_test_hist)"
   ]
  },
  {
   "cell_type": "markdown",
   "id": "final-message",
   "metadata": {},
   "source": [
    "Now let us see how our OLS model performs when we use the autoencoders to reduce the dimensions of the data."
   ]
  },
  {
   "cell_type": "code",
   "execution_count": 35,
   "id": "dress-grill",
   "metadata": {},
   "outputs": [],
   "source": [
    "with torch.no_grad():\n",
    "    X_train_reduced = np.hstack((\n",
    "        X_train,\n",
    "        autoencoder.encode(ohe_train_tensor)\n",
    "    ))\n",
    "\n",
    "    X_test_reduced = np.hstack((\n",
    "        X_test,\n",
    "        autoencoder.encode(ohe_test_tensor)\n",
    "    ))"
   ]
  },
  {
   "cell_type": "markdown",
   "id": "consolidated-throat",
   "metadata": {},
   "source": [
    "## 5. Autoencoder, PCA, full data-set Shoot out...\n",
    "\n",
    "Now we compare the MSE based on an OLS using input data dimensionality reduced by \n",
    "\n",
    "1) Autoencoders\n",
    "\n",
    "2) PCA\n",
    "\n",
    "3) ... the full unadulterated dataset.\n",
    "\n",
    "Let's get the losses for each.... First the autoencoder..... we pass in the latent representation ```X_train_reduced``` into the OLS learner...."
   ]
  },
  {
   "cell_type": "code",
   "execution_count": 36,
   "id": "fantastic-harbor",
   "metadata": {},
   "outputs": [
    {
     "name": "stdout",
     "output_type": "stream",
     "text": [
      "Training loss: 0.14523800146447652\n",
      "Test loss: 0.7627050711535439\n"
     ]
    }
   ],
   "source": [
    "#Train OLS using the latent representation created by the autoencoder\n",
    "ols_model = OLS(y_train, X_train_reduced)\n",
    "res = ols_model.fit()\n",
    "\n",
    "ae_train_loss = mean_squared_error(res.predict(X_train_reduced), y_train)\n",
    "ae_test_loss = mean_squared_error(res.predict(X_test_reduced), y_test)\n",
    "\n",
    "print(\"Training loss:\", ae_train_loss)\n",
    "print(\"Test loss:\", ae_test_loss)"
   ]
  },
  {
   "cell_type": "markdown",
   "id": "assumed-aquarium",
   "metadata": {},
   "source": [
    "We already have the PCA test loss from earlier... Now we pass in the unaltered data into the OLS learner.... no dimensionality reduction ...."
   ]
  },
  {
   "cell_type": "code",
   "execution_count": 37,
   "id": "official-catch",
   "metadata": {},
   "outputs": [
    {
     "name": "stdout",
     "output_type": "stream",
     "text": [
      "Training loss: 0.14589465100283602\n",
      "Test loss: 0.8456317540318582\n"
     ]
    }
   ],
   "source": [
    "#Train OLS using FULL DATASET\n",
    "ols_model = OLS(y_train, X_train)\n",
    "res = ols_model.fit()\n",
    "\n",
    "train_loss_full_ds = mean_squared_error(res.predict(X_train), y_train)\n",
    "test_loss_full_ds = mean_squared_error(res.predict(X_test), y_test)\n",
    "\n",
    "print(\"Training loss:\", train_loss_full_ds)\n",
    "print(\"Test loss:\", test_loss_full_ds)"
   ]
  },
  {
   "cell_type": "code",
   "execution_count": 38,
   "id": "framed-stream",
   "metadata": {},
   "outputs": [
    {
     "name": "stdout",
     "output_type": "stream",
     "text": [
      "Autoencoders win! Non-linear dimensionality reduction is the way to go...\n"
     ]
    }
   ],
   "source": [
    "#Shoot out....\n",
    "if ae_train_loss == min(pca_best_loss_test, ae_train_loss, test_loss_full_ds):\n",
    "    print('Autoencoders win! Non-linear dimensionality reduction is the way to go...')\n",
    "\n",
    "elif pca_best_loss_test == min(pca_best_loss_test, ae_train_loss, test_loss_full_ds):\n",
    "    print('PCA wins! Linearity is fab... but perhaps we should try the same degree of parameter tuning on the auto encoder as we put in place for PCA!')\n",
    "\n",
    "elif test_loss_full_ds == min(pca_best_loss_test,ae_train_loss, test_loss_full_ds):\n",
    "    print('Honestly. Dont bother... Full dataset wins....')"
   ]
  },
  {
   "cell_type": "code",
   "execution_count": null,
   "id": "muslim-closing",
   "metadata": {},
   "outputs": [],
   "source": []
  }
 ],
 "metadata": {
  "kernelspec": {
   "display_name": "Python 3",
   "language": "python",
   "name": "python3"
  },
  "language_info": {
   "codemirror_mode": {
    "name": "ipython",
    "version": 3
   },
   "file_extension": ".py",
   "mimetype": "text/x-python",
   "name": "python",
   "nbconvert_exporter": "python",
   "pygments_lexer": "ipython3",
   "version": "3.7.9"
  }
 },
 "nbformat": 4,
 "nbformat_minor": 5
}
